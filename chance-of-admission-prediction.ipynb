{
 "cells": [
  {
   "cell_type": "code",
   "execution_count": 1,
   "id": "155899b3",
   "metadata": {
    "_cell_guid": "b1076dfc-b9ad-4769-8c92-a6c4dae69d19",
    "_uuid": "8f2839f25d086af736a60e9eeb907d3b93b6e0e5",
    "execution": {
     "iopub.execute_input": "2023-08-17T16:19:57.165980Z",
     "iopub.status.busy": "2023-08-17T16:19:57.165228Z",
     "iopub.status.idle": "2023-08-17T16:19:57.181567Z",
     "shell.execute_reply": "2023-08-17T16:19:57.180139Z"
    },
    "papermill": {
     "duration": 0.027966,
     "end_time": "2023-08-17T16:19:57.184671",
     "exception": false,
     "start_time": "2023-08-17T16:19:57.156705",
     "status": "completed"
    },
    "tags": []
   },
   "outputs": [],
   "source": [
    "# This Python 3 environment comes with many helpful analytics libraries installed\n",
    "# It is defined by the kaggle/python Docker image: https://github.com/kaggle/docker-python\n",
    "# For example, here's several helpful packages to load\n",
    "\n",
    "import numpy as np # linear algebra\n",
    "import pandas as pd # data processing, CSV file I/O (e.g. pd.read_csv)\n",
    "import matplotlib.pyplot as plt\n",
    "%matplotlib inline\n",
    "# Input data files are available in the read-only \"../input/\" directory\n",
    "# For example, running this (by clicking run or pressing Shift+Enter) will list all files under the input directory\n",
    "\n",
    "import os\n",
    "for dirname, _, filenames in os.walk('/kaggle/input'):\n",
    "    for filename in filenames:\n",
    "        print(os.path.join(dirname, filename))\n",
    "\n",
    "# You can write up to 20GB to the current directory (/kaggle/working/) that gets preserved as output when you create a version using \"Save & Run All\" \n",
    "# You can also write temporary files to /kaggle/temp/, but they won't be saved outside of the current session"
   ]
  },
  {
   "cell_type": "code",
   "execution_count": 2,
   "id": "219531b2",
   "metadata": {
    "execution": {
     "iopub.execute_input": "2023-08-17T16:19:57.199772Z",
     "iopub.status.busy": "2023-08-17T16:19:57.198976Z",
     "iopub.status.idle": "2023-08-17T16:19:57.603234Z",
     "shell.execute_reply": "2023-08-17T16:19:57.601872Z"
    },
    "papermill": {
     "duration": 0.415231,
     "end_time": "2023-08-17T16:19:57.606480",
     "exception": false,
     "start_time": "2023-08-17T16:19:57.191249",
     "status": "completed"
    },
    "tags": []
   },
   "outputs": [
    {
     "data": {
      "text/html": [
       "<div>\n",
       "<style scoped>\n",
       "    .dataframe tbody tr th:only-of-type {\n",
       "        vertical-align: middle;\n",
       "    }\n",
       "\n",
       "    .dataframe tbody tr th {\n",
       "        vertical-align: top;\n",
       "    }\n",
       "\n",
       "    .dataframe thead th {\n",
       "        text-align: right;\n",
       "    }\n",
       "</style>\n",
       "<table border=\"1\" class=\"dataframe\">\n",
       "  <thead>\n",
       "    <tr style=\"text-align: right;\">\n",
       "      <th></th>\n",
       "      <th>Serial No</th>\n",
       "      <th>GRE Score</th>\n",
       "      <th>TOEFL Score</th>\n",
       "      <th>University Rating</th>\n",
       "      <th>SOP</th>\n",
       "      <th>LOR</th>\n",
       "      <th>CGPA</th>\n",
       "      <th>Research</th>\n",
       "      <th>Chance of Admit</th>\n",
       "    </tr>\n",
       "  </thead>\n",
       "  <tbody>\n",
       "    <tr>\n",
       "      <th>0</th>\n",
       "      <td>1</td>\n",
       "      <td>337</td>\n",
       "      <td>118</td>\n",
       "      <td>4</td>\n",
       "      <td>4.5</td>\n",
       "      <td>4.5</td>\n",
       "      <td>9.65</td>\n",
       "      <td>1</td>\n",
       "      <td>0.92</td>\n",
       "    </tr>\n",
       "    <tr>\n",
       "      <th>1</th>\n",
       "      <td>2</td>\n",
       "      <td>324</td>\n",
       "      <td>107</td>\n",
       "      <td>4</td>\n",
       "      <td>4.0</td>\n",
       "      <td>4.5</td>\n",
       "      <td>8.87</td>\n",
       "      <td>1</td>\n",
       "      <td>0.76</td>\n",
       "    </tr>\n",
       "    <tr>\n",
       "      <th>2</th>\n",
       "      <td>3</td>\n",
       "      <td>316</td>\n",
       "      <td>104</td>\n",
       "      <td>3</td>\n",
       "      <td>3.0</td>\n",
       "      <td>3.5</td>\n",
       "      <td>8.00</td>\n",
       "      <td>1</td>\n",
       "      <td>0.72</td>\n",
       "    </tr>\n",
       "    <tr>\n",
       "      <th>3</th>\n",
       "      <td>4</td>\n",
       "      <td>322</td>\n",
       "      <td>110</td>\n",
       "      <td>3</td>\n",
       "      <td>3.5</td>\n",
       "      <td>2.5</td>\n",
       "      <td>8.67</td>\n",
       "      <td>1</td>\n",
       "      <td>0.80</td>\n",
       "    </tr>\n",
       "    <tr>\n",
       "      <th>4</th>\n",
       "      <td>5</td>\n",
       "      <td>314</td>\n",
       "      <td>103</td>\n",
       "      <td>2</td>\n",
       "      <td>2.0</td>\n",
       "      <td>3.0</td>\n",
       "      <td>8.21</td>\n",
       "      <td>0</td>\n",
       "      <td>0.65</td>\n",
       "    </tr>\n",
       "  </tbody>\n",
       "</table>\n",
       "</div>"
      ],
      "text/plain": [
       "   Serial No  GRE Score  TOEFL Score  University Rating   SOP  LOR   CGPA  \\\n",
       "0          1        337          118                  4   4.5   4.5  9.65   \n",
       "1          2        324          107                  4   4.0   4.5  8.87   \n",
       "2          3        316          104                  3   3.0   3.5  8.00   \n",
       "3          4        322          110                  3   3.5   2.5  8.67   \n",
       "4          5        314          103                  2   2.0   3.0  8.21   \n",
       "\n",
       "   Research  Chance of Admit   \n",
       "0         1              0.92  \n",
       "1         1              0.76  \n",
       "2         1              0.72  \n",
       "3         1              0.80  \n",
       "4         0              0.65  "
      ]
     },
     "execution_count": 2,
     "metadata": {},
     "output_type": "execute_result"
    }
   ],
   "source": [
    "admission=pd.read_csv('https://github.com/YBIFoundation/Dataset/raw/main/Admission%20Chance.csv')\n",
    "admission.head()"
   ]
  },
  {
   "cell_type": "code",
   "execution_count": 3,
   "id": "c05ca057",
   "metadata": {
    "execution": {
     "iopub.execute_input": "2023-08-17T16:19:57.621243Z",
     "iopub.status.busy": "2023-08-17T16:19:57.620838Z",
     "iopub.status.idle": "2023-08-17T16:19:57.632247Z",
     "shell.execute_reply": "2023-08-17T16:19:57.630968Z"
    },
    "papermill": {
     "duration": 0.02212,
     "end_time": "2023-08-17T16:19:57.635175",
     "exception": false,
     "start_time": "2023-08-17T16:19:57.613055",
     "status": "completed"
    },
    "tags": []
   },
   "outputs": [
    {
     "data": {
      "text/plain": [
       "Serial No            0\n",
       "GRE Score            0\n",
       "TOEFL Score          0\n",
       "University Rating    0\n",
       " SOP                 0\n",
       "LOR                  0\n",
       "CGPA                 0\n",
       "Research             0\n",
       "Chance of Admit      0\n",
       "dtype: int64"
      ]
     },
     "execution_count": 3,
     "metadata": {},
     "output_type": "execute_result"
    }
   ],
   "source": [
    "admission.isnull().sum()"
   ]
  },
  {
   "cell_type": "code",
   "execution_count": 4,
   "id": "825bf297",
   "metadata": {
    "execution": {
     "iopub.execute_input": "2023-08-17T16:19:57.650252Z",
     "iopub.status.busy": "2023-08-17T16:19:57.649845Z",
     "iopub.status.idle": "2023-08-17T16:19:57.677496Z",
     "shell.execute_reply": "2023-08-17T16:19:57.676354Z"
    },
    "papermill": {
     "duration": 0.03862,
     "end_time": "2023-08-17T16:19:57.680363",
     "exception": false,
     "start_time": "2023-08-17T16:19:57.641743",
     "status": "completed"
    },
    "tags": []
   },
   "outputs": [
    {
     "name": "stdout",
     "output_type": "stream",
     "text": [
      "<class 'pandas.core.frame.DataFrame'>\n",
      "RangeIndex: 400 entries, 0 to 399\n",
      "Data columns (total 9 columns):\n",
      " #   Column             Non-Null Count  Dtype  \n",
      "---  ------             --------------  -----  \n",
      " 0   Serial No          400 non-null    int64  \n",
      " 1   GRE Score          400 non-null    int64  \n",
      " 2   TOEFL Score        400 non-null    int64  \n",
      " 3   University Rating  400 non-null    int64  \n",
      " 4    SOP               400 non-null    float64\n",
      " 5   LOR                400 non-null    float64\n",
      " 6   CGPA               400 non-null    float64\n",
      " 7   Research           400 non-null    int64  \n",
      " 8   Chance of Admit    400 non-null    float64\n",
      "dtypes: float64(4), int64(5)\n",
      "memory usage: 28.2 KB\n"
     ]
    }
   ],
   "source": [
    "admission.info()"
   ]
  },
  {
   "cell_type": "code",
   "execution_count": 5,
   "id": "e9a7ad67",
   "metadata": {
    "execution": {
     "iopub.execute_input": "2023-08-17T16:19:57.696168Z",
     "iopub.status.busy": "2023-08-17T16:19:57.695535Z",
     "iopub.status.idle": "2023-08-17T16:19:57.746529Z",
     "shell.execute_reply": "2023-08-17T16:19:57.745048Z"
    },
    "papermill": {
     "duration": 0.062292,
     "end_time": "2023-08-17T16:19:57.749253",
     "exception": false,
     "start_time": "2023-08-17T16:19:57.686961",
     "status": "completed"
    },
    "tags": []
   },
   "outputs": [
    {
     "data": {
      "text/html": [
       "<div>\n",
       "<style scoped>\n",
       "    .dataframe tbody tr th:only-of-type {\n",
       "        vertical-align: middle;\n",
       "    }\n",
       "\n",
       "    .dataframe tbody tr th {\n",
       "        vertical-align: top;\n",
       "    }\n",
       "\n",
       "    .dataframe thead th {\n",
       "        text-align: right;\n",
       "    }\n",
       "</style>\n",
       "<table border=\"1\" class=\"dataframe\">\n",
       "  <thead>\n",
       "    <tr style=\"text-align: right;\">\n",
       "      <th></th>\n",
       "      <th>Serial No</th>\n",
       "      <th>GRE Score</th>\n",
       "      <th>TOEFL Score</th>\n",
       "      <th>University Rating</th>\n",
       "      <th>SOP</th>\n",
       "      <th>LOR</th>\n",
       "      <th>CGPA</th>\n",
       "      <th>Research</th>\n",
       "      <th>Chance of Admit</th>\n",
       "    </tr>\n",
       "  </thead>\n",
       "  <tbody>\n",
       "    <tr>\n",
       "      <th>count</th>\n",
       "      <td>400.000000</td>\n",
       "      <td>400.000000</td>\n",
       "      <td>400.000000</td>\n",
       "      <td>400.000000</td>\n",
       "      <td>400.000000</td>\n",
       "      <td>400.000000</td>\n",
       "      <td>400.000000</td>\n",
       "      <td>400.000000</td>\n",
       "      <td>400.000000</td>\n",
       "    </tr>\n",
       "    <tr>\n",
       "      <th>mean</th>\n",
       "      <td>200.500000</td>\n",
       "      <td>316.807500</td>\n",
       "      <td>107.410000</td>\n",
       "      <td>3.087500</td>\n",
       "      <td>3.400000</td>\n",
       "      <td>3.452500</td>\n",
       "      <td>8.598925</td>\n",
       "      <td>0.547500</td>\n",
       "      <td>0.724350</td>\n",
       "    </tr>\n",
       "    <tr>\n",
       "      <th>std</th>\n",
       "      <td>115.614301</td>\n",
       "      <td>11.473646</td>\n",
       "      <td>6.069514</td>\n",
       "      <td>1.143728</td>\n",
       "      <td>1.006869</td>\n",
       "      <td>0.898478</td>\n",
       "      <td>0.596317</td>\n",
       "      <td>0.498362</td>\n",
       "      <td>0.142609</td>\n",
       "    </tr>\n",
       "    <tr>\n",
       "      <th>min</th>\n",
       "      <td>1.000000</td>\n",
       "      <td>290.000000</td>\n",
       "      <td>92.000000</td>\n",
       "      <td>1.000000</td>\n",
       "      <td>1.000000</td>\n",
       "      <td>1.000000</td>\n",
       "      <td>6.800000</td>\n",
       "      <td>0.000000</td>\n",
       "      <td>0.340000</td>\n",
       "    </tr>\n",
       "    <tr>\n",
       "      <th>25%</th>\n",
       "      <td>100.750000</td>\n",
       "      <td>308.000000</td>\n",
       "      <td>103.000000</td>\n",
       "      <td>2.000000</td>\n",
       "      <td>2.500000</td>\n",
       "      <td>3.000000</td>\n",
       "      <td>8.170000</td>\n",
       "      <td>0.000000</td>\n",
       "      <td>0.640000</td>\n",
       "    </tr>\n",
       "    <tr>\n",
       "      <th>50%</th>\n",
       "      <td>200.500000</td>\n",
       "      <td>317.000000</td>\n",
       "      <td>107.000000</td>\n",
       "      <td>3.000000</td>\n",
       "      <td>3.500000</td>\n",
       "      <td>3.500000</td>\n",
       "      <td>8.610000</td>\n",
       "      <td>1.000000</td>\n",
       "      <td>0.730000</td>\n",
       "    </tr>\n",
       "    <tr>\n",
       "      <th>75%</th>\n",
       "      <td>300.250000</td>\n",
       "      <td>325.000000</td>\n",
       "      <td>112.000000</td>\n",
       "      <td>4.000000</td>\n",
       "      <td>4.000000</td>\n",
       "      <td>4.000000</td>\n",
       "      <td>9.062500</td>\n",
       "      <td>1.000000</td>\n",
       "      <td>0.830000</td>\n",
       "    </tr>\n",
       "    <tr>\n",
       "      <th>max</th>\n",
       "      <td>400.000000</td>\n",
       "      <td>340.000000</td>\n",
       "      <td>120.000000</td>\n",
       "      <td>5.000000</td>\n",
       "      <td>5.000000</td>\n",
       "      <td>5.000000</td>\n",
       "      <td>9.920000</td>\n",
       "      <td>1.000000</td>\n",
       "      <td>0.970000</td>\n",
       "    </tr>\n",
       "  </tbody>\n",
       "</table>\n",
       "</div>"
      ],
      "text/plain": [
       "        Serial No   GRE Score  TOEFL Score  University Rating         SOP  \\\n",
       "count  400.000000  400.000000   400.000000         400.000000  400.000000   \n",
       "mean   200.500000  316.807500   107.410000           3.087500    3.400000   \n",
       "std    115.614301   11.473646     6.069514           1.143728    1.006869   \n",
       "min      1.000000  290.000000    92.000000           1.000000    1.000000   \n",
       "25%    100.750000  308.000000   103.000000           2.000000    2.500000   \n",
       "50%    200.500000  317.000000   107.000000           3.000000    3.500000   \n",
       "75%    300.250000  325.000000   112.000000           4.000000    4.000000   \n",
       "max    400.000000  340.000000   120.000000           5.000000    5.000000   \n",
       "\n",
       "             LOR         CGPA    Research  Chance of Admit   \n",
       "count  400.000000  400.000000  400.000000        400.000000  \n",
       "mean     3.452500    8.598925    0.547500          0.724350  \n",
       "std      0.898478    0.596317    0.498362          0.142609  \n",
       "min      1.000000    6.800000    0.000000          0.340000  \n",
       "25%      3.000000    8.170000    0.000000          0.640000  \n",
       "50%      3.500000    8.610000    1.000000          0.730000  \n",
       "75%      4.000000    9.062500    1.000000          0.830000  \n",
       "max      5.000000    9.920000    1.000000          0.970000  "
      ]
     },
     "execution_count": 5,
     "metadata": {},
     "output_type": "execute_result"
    }
   ],
   "source": [
    "admission.describe()"
   ]
  },
  {
   "cell_type": "code",
   "execution_count": 6,
   "id": "6caae91c",
   "metadata": {
    "execution": {
     "iopub.execute_input": "2023-08-17T16:19:57.765350Z",
     "iopub.status.busy": "2023-08-17T16:19:57.764587Z",
     "iopub.status.idle": "2023-08-17T16:19:57.772983Z",
     "shell.execute_reply": "2023-08-17T16:19:57.771349Z"
    },
    "papermill": {
     "duration": 0.01952,
     "end_time": "2023-08-17T16:19:57.775725",
     "exception": false,
     "start_time": "2023-08-17T16:19:57.756205",
     "status": "completed"
    },
    "tags": []
   },
   "outputs": [
    {
     "data": {
      "text/plain": [
       "Index(['Serial No', 'GRE Score', 'TOEFL Score', 'University Rating', ' SOP',\n",
       "       'LOR ', 'CGPA', 'Research', 'Chance of Admit '],\n",
       "      dtype='object')"
      ]
     },
     "execution_count": 6,
     "metadata": {},
     "output_type": "execute_result"
    }
   ],
   "source": [
    "admission.columns"
   ]
  },
  {
   "cell_type": "code",
   "execution_count": 7,
   "id": "cba6154c",
   "metadata": {
    "execution": {
     "iopub.execute_input": "2023-08-17T16:19:57.792070Z",
     "iopub.status.busy": "2023-08-17T16:19:57.791616Z",
     "iopub.status.idle": "2023-08-17T16:19:57.800430Z",
     "shell.execute_reply": "2023-08-17T16:19:57.799326Z"
    },
    "papermill": {
     "duration": 0.020001,
     "end_time": "2023-08-17T16:19:57.803020",
     "exception": false,
     "start_time": "2023-08-17T16:19:57.783019",
     "status": "completed"
    },
    "tags": []
   },
   "outputs": [],
   "source": [
    "y=admission['Chance of Admit ']\n",
    "X=admission.drop(['Serial No','Chance of Admit '],axis=1)"
   ]
  },
  {
   "cell_type": "code",
   "execution_count": 8,
   "id": "9110c828",
   "metadata": {
    "execution": {
     "iopub.execute_input": "2023-08-17T16:19:57.819993Z",
     "iopub.status.busy": "2023-08-17T16:19:57.818739Z",
     "iopub.status.idle": "2023-08-17T16:19:59.357951Z",
     "shell.execute_reply": "2023-08-17T16:19:59.356604Z"
    },
    "papermill": {
     "duration": 1.550688,
     "end_time": "2023-08-17T16:19:59.360905",
     "exception": false,
     "start_time": "2023-08-17T16:19:57.810217",
     "status": "completed"
    },
    "tags": []
   },
   "outputs": [
    {
     "name": "stderr",
     "output_type": "stream",
     "text": [
      "/opt/conda/lib/python3.10/site-packages/scipy/__init__.py:146: UserWarning: A NumPy version >=1.16.5 and <1.23.0 is required for this version of SciPy (detected version 1.23.5\n",
      "  warnings.warn(f\"A NumPy version >={np_minversion} and <{np_maxversion}\"\n"
     ]
    }
   ],
   "source": [
    "from sklearn.model_selection import train_test_split\n",
    "X_train,X_test,y_train,y_test=train_test_split(X,y,random_state=2529)"
   ]
  },
  {
   "cell_type": "code",
   "execution_count": 9,
   "id": "0ad391c7",
   "metadata": {
    "execution": {
     "iopub.execute_input": "2023-08-17T16:19:59.377327Z",
     "iopub.status.busy": "2023-08-17T16:19:59.376869Z",
     "iopub.status.idle": "2023-08-17T16:19:59.385142Z",
     "shell.execute_reply": "2023-08-17T16:19:59.383946Z"
    },
    "papermill": {
     "duration": 0.019502,
     "end_time": "2023-08-17T16:19:59.387747",
     "exception": false,
     "start_time": "2023-08-17T16:19:59.368245",
     "status": "completed"
    },
    "tags": []
   },
   "outputs": [
    {
     "data": {
      "text/plain": [
       "((300, 7), (100, 7), (300,), (100,))"
      ]
     },
     "execution_count": 9,
     "metadata": {},
     "output_type": "execute_result"
    }
   ],
   "source": [
    "X_train.shape,X_test.shape,y_train.shape,y_test.shape"
   ]
  },
  {
   "cell_type": "code",
   "execution_count": 10,
   "id": "7e3eee26",
   "metadata": {
    "execution": {
     "iopub.execute_input": "2023-08-17T16:19:59.405534Z",
     "iopub.status.busy": "2023-08-17T16:19:59.404960Z",
     "iopub.status.idle": "2023-08-17T16:19:59.571335Z",
     "shell.execute_reply": "2023-08-17T16:19:59.569865Z"
    },
    "papermill": {
     "duration": 0.179112,
     "end_time": "2023-08-17T16:19:59.574161",
     "exception": false,
     "start_time": "2023-08-17T16:19:59.395049",
     "status": "completed"
    },
    "tags": []
   },
   "outputs": [
    {
     "data": {
      "text/html": [
       "<style>#sk-container-id-1 {color: black;background-color: white;}#sk-container-id-1 pre{padding: 0;}#sk-container-id-1 div.sk-toggleable {background-color: white;}#sk-container-id-1 label.sk-toggleable__label {cursor: pointer;display: block;width: 100%;margin-bottom: 0;padding: 0.3em;box-sizing: border-box;text-align: center;}#sk-container-id-1 label.sk-toggleable__label-arrow:before {content: \"▸\";float: left;margin-right: 0.25em;color: #696969;}#sk-container-id-1 label.sk-toggleable__label-arrow:hover:before {color: black;}#sk-container-id-1 div.sk-estimator:hover label.sk-toggleable__label-arrow:before {color: black;}#sk-container-id-1 div.sk-toggleable__content {max-height: 0;max-width: 0;overflow: hidden;text-align: left;background-color: #f0f8ff;}#sk-container-id-1 div.sk-toggleable__content pre {margin: 0.2em;color: black;border-radius: 0.25em;background-color: #f0f8ff;}#sk-container-id-1 input.sk-toggleable__control:checked~div.sk-toggleable__content {max-height: 200px;max-width: 100%;overflow: auto;}#sk-container-id-1 input.sk-toggleable__control:checked~label.sk-toggleable__label-arrow:before {content: \"▾\";}#sk-container-id-1 div.sk-estimator input.sk-toggleable__control:checked~label.sk-toggleable__label {background-color: #d4ebff;}#sk-container-id-1 div.sk-label input.sk-toggleable__control:checked~label.sk-toggleable__label {background-color: #d4ebff;}#sk-container-id-1 input.sk-hidden--visually {border: 0;clip: rect(1px 1px 1px 1px);clip: rect(1px, 1px, 1px, 1px);height: 1px;margin: -1px;overflow: hidden;padding: 0;position: absolute;width: 1px;}#sk-container-id-1 div.sk-estimator {font-family: monospace;background-color: #f0f8ff;border: 1px dotted black;border-radius: 0.25em;box-sizing: border-box;margin-bottom: 0.5em;}#sk-container-id-1 div.sk-estimator:hover {background-color: #d4ebff;}#sk-container-id-1 div.sk-parallel-item::after {content: \"\";width: 100%;border-bottom: 1px solid gray;flex-grow: 1;}#sk-container-id-1 div.sk-label:hover label.sk-toggleable__label {background-color: #d4ebff;}#sk-container-id-1 div.sk-serial::before {content: \"\";position: absolute;border-left: 1px solid gray;box-sizing: border-box;top: 0;bottom: 0;left: 50%;z-index: 0;}#sk-container-id-1 div.sk-serial {display: flex;flex-direction: column;align-items: center;background-color: white;padding-right: 0.2em;padding-left: 0.2em;position: relative;}#sk-container-id-1 div.sk-item {position: relative;z-index: 1;}#sk-container-id-1 div.sk-parallel {display: flex;align-items: stretch;justify-content: center;background-color: white;position: relative;}#sk-container-id-1 div.sk-item::before, #sk-container-id-1 div.sk-parallel-item::before {content: \"\";position: absolute;border-left: 1px solid gray;box-sizing: border-box;top: 0;bottom: 0;left: 50%;z-index: -1;}#sk-container-id-1 div.sk-parallel-item {display: flex;flex-direction: column;z-index: 1;position: relative;background-color: white;}#sk-container-id-1 div.sk-parallel-item:first-child::after {align-self: flex-end;width: 50%;}#sk-container-id-1 div.sk-parallel-item:last-child::after {align-self: flex-start;width: 50%;}#sk-container-id-1 div.sk-parallel-item:only-child::after {width: 0;}#sk-container-id-1 div.sk-dashed-wrapped {border: 1px dashed gray;margin: 0 0.4em 0.5em 0.4em;box-sizing: border-box;padding-bottom: 0.4em;background-color: white;}#sk-container-id-1 div.sk-label label {font-family: monospace;font-weight: bold;display: inline-block;line-height: 1.2em;}#sk-container-id-1 div.sk-label-container {text-align: center;}#sk-container-id-1 div.sk-container {/* jupyter's `normalize.less` sets `[hidden] { display: none; }` but bootstrap.min.css set `[hidden] { display: none !important; }` so we also need the `!important` here to be able to override the default hidden behavior on the sphinx rendered scikit-learn.org. See: https://github.com/scikit-learn/scikit-learn/issues/21755 */display: inline-block !important;position: relative;}#sk-container-id-1 div.sk-text-repr-fallback {display: none;}</style><div id=\"sk-container-id-1\" class=\"sk-top-container\"><div class=\"sk-text-repr-fallback\"><pre>LinearRegression()</pre><b>In a Jupyter environment, please rerun this cell to show the HTML representation or trust the notebook. <br />On GitHub, the HTML representation is unable to render, please try loading this page with nbviewer.org.</b></div><div class=\"sk-container\" hidden><div class=\"sk-item\"><div class=\"sk-estimator sk-toggleable\"><input class=\"sk-toggleable__control sk-hidden--visually\" id=\"sk-estimator-id-1\" type=\"checkbox\" checked><label for=\"sk-estimator-id-1\" class=\"sk-toggleable__label sk-toggleable__label-arrow\">LinearRegression</label><div class=\"sk-toggleable__content\"><pre>LinearRegression()</pre></div></div></div></div></div>"
      ],
      "text/plain": [
       "LinearRegression()"
      ]
     },
     "execution_count": 10,
     "metadata": {},
     "output_type": "execute_result"
    }
   ],
   "source": [
    "from sklearn.linear_model import LinearRegression\n",
    "model=LinearRegression()\n",
    "model.fit(X_train,y_train)"
   ]
  },
  {
   "cell_type": "code",
   "execution_count": 11,
   "id": "ea34592b",
   "metadata": {
    "execution": {
     "iopub.execute_input": "2023-08-17T16:19:59.592984Z",
     "iopub.status.busy": "2023-08-17T16:19:59.592580Z",
     "iopub.status.idle": "2023-08-17T16:19:59.599176Z",
     "shell.execute_reply": "2023-08-17T16:19:59.598324Z"
    },
    "papermill": {
     "duration": 0.018391,
     "end_time": "2023-08-17T16:19:59.601634",
     "exception": false,
     "start_time": "2023-08-17T16:19:59.583243",
     "status": "completed"
    },
    "tags": []
   },
   "outputs": [
    {
     "data": {
      "text/plain": [
       "-1.250445038169678"
      ]
     },
     "execution_count": 11,
     "metadata": {},
     "output_type": "execute_result"
    }
   ],
   "source": [
    "model.intercept_"
   ]
  },
  {
   "cell_type": "code",
   "execution_count": 12,
   "id": "d4b588f7",
   "metadata": {
    "execution": {
     "iopub.execute_input": "2023-08-17T16:19:59.619352Z",
     "iopub.status.busy": "2023-08-17T16:19:59.618907Z",
     "iopub.status.idle": "2023-08-17T16:19:59.628514Z",
     "shell.execute_reply": "2023-08-17T16:19:59.627055Z"
    },
    "papermill": {
     "duration": 0.022387,
     "end_time": "2023-08-17T16:19:59.632049",
     "exception": false,
     "start_time": "2023-08-17T16:19:59.609662",
     "status": "completed"
    },
    "tags": []
   },
   "outputs": [
    {
     "data": {
      "text/plain": [
       "array([ 0.00178135,  0.00333643,  0.00448022, -0.00363339,  0.01931061,\n",
       "        0.11349064,  0.02362743])"
      ]
     },
     "execution_count": 12,
     "metadata": {},
     "output_type": "execute_result"
    }
   ],
   "source": [
    "model.coef_"
   ]
  },
  {
   "cell_type": "code",
   "execution_count": 13,
   "id": "416c6d36",
   "metadata": {
    "execution": {
     "iopub.execute_input": "2023-08-17T16:19:59.653235Z",
     "iopub.status.busy": "2023-08-17T16:19:59.652829Z",
     "iopub.status.idle": "2023-08-17T16:19:59.666047Z",
     "shell.execute_reply": "2023-08-17T16:19:59.664182Z"
    },
    "papermill": {
     "duration": 0.027265,
     "end_time": "2023-08-17T16:19:59.668648",
     "exception": false,
     "start_time": "2023-08-17T16:19:59.641383",
     "status": "completed"
    },
    "tags": []
   },
   "outputs": [
    {
     "data": {
      "text/plain": [
       "array([0.7144961 , 0.72433652, 0.6947035 , 0.66754341, 0.5757752 ,\n",
       "       0.92796592, 0.93381448, 0.72160505, 0.81332853, 0.62087096,\n",
       "       0.59814287, 0.80197525, 0.52391907, 0.79348618, 0.84159249,\n",
       "       0.66462736, 0.65019659, 0.66683741, 0.75633359, 0.85990266,\n",
       "       0.6611304 , 0.85530211, 0.84773724, 0.95084909, 0.68516577,\n",
       "       0.65985861, 0.65294588, 0.57244986, 0.56194295, 0.57917889,\n",
       "       0.54339923, 0.7596432 , 0.69747716, 0.76966885, 0.64849173,\n",
       "       0.51748964, 0.4383084 , 0.84664962, 0.90649863, 0.8083248 ,\n",
       "       0.71996237, 0.72891493, 0.68158382, 0.88586839, 0.77418496,\n",
       "       0.785911  , 0.95311821, 0.88750419, 0.59732541, 0.50982369,\n",
       "       0.60049462, 0.63438365, 0.82802576, 0.4489817 , 0.71562113,\n",
       "       0.77172062, 0.69139158, 0.6458718 , 0.85512273, 0.65600333,\n",
       "       0.65360937, 0.90885429, 0.6353095 , 0.69091154, 0.72239001,\n",
       "       0.69413725, 0.59206369, 0.93462023, 0.59265576, 0.91516448,\n",
       "       0.59220822, 0.93402829, 0.59535163, 0.71363485, 0.54648628,\n",
       "       0.84450107, 0.60806186, 0.72368756, 0.68118959, 0.81708514,\n",
       "       0.7036384 , 0.88518239, 0.67104593, 0.53396146, 0.77947466,\n",
       "       0.6577246 , 0.78501781, 0.54737323, 0.77588006, 0.66836582,\n",
       "       0.69495794, 0.69677332, 0.92199533, 0.70833475, 0.62516322,\n",
       "       0.61885063, 0.73937601, 0.6724398 , 0.76000197, 0.6220936 ])"
      ]
     },
     "execution_count": 13,
     "metadata": {},
     "output_type": "execute_result"
    }
   ],
   "source": [
    "y_pred=model.predict(X_test)\n",
    "y_pred"
   ]
  },
  {
   "cell_type": "code",
   "execution_count": 14,
   "id": "fce94f66",
   "metadata": {
    "execution": {
     "iopub.execute_input": "2023-08-17T16:19:59.690351Z",
     "iopub.status.busy": "2023-08-17T16:19:59.689881Z",
     "iopub.status.idle": "2023-08-17T16:19:59.697176Z",
     "shell.execute_reply": "2023-08-17T16:19:59.695830Z"
    },
    "papermill": {
     "duration": 0.020853,
     "end_time": "2023-08-17T16:19:59.699922",
     "exception": false,
     "start_time": "2023-08-17T16:19:59.679069",
     "status": "completed"
    },
    "tags": []
   },
   "outputs": [],
   "source": [
    "from sklearn.metrics import mean_absolute_percentage_error\n",
    "accuracy=100-mean_absolute_percentage_error(y_test,y_pred)*100"
   ]
  },
  {
   "cell_type": "code",
   "execution_count": 15,
   "id": "af3df3cf",
   "metadata": {
    "execution": {
     "iopub.execute_input": "2023-08-17T16:19:59.718625Z",
     "iopub.status.busy": "2023-08-17T16:19:59.717480Z",
     "iopub.status.idle": "2023-08-17T16:19:59.725209Z",
     "shell.execute_reply": "2023-08-17T16:19:59.723851Z"
    },
    "papermill": {
     "duration": 0.019796,
     "end_time": "2023-08-17T16:19:59.727799",
     "exception": false,
     "start_time": "2023-08-17T16:19:59.708003",
     "status": "completed"
    },
    "tags": []
   },
   "outputs": [
    {
     "data": {
      "text/plain": [
       "91.760042553269"
      ]
     },
     "execution_count": 15,
     "metadata": {},
     "output_type": "execute_result"
    }
   ],
   "source": [
    "accuracy"
   ]
  },
  {
   "cell_type": "markdown",
   "id": "b35bb0f2",
   "metadata": {
    "papermill": {
     "duration": 0.009328,
     "end_time": "2023-08-17T16:19:59.746188",
     "exception": false,
     "start_time": "2023-08-17T16:19:59.736860",
     "status": "completed"
    },
    "tags": []
   },
   "source": [
    "*Our Model is **91.76%** accurate.*"
   ]
  }
 ],
 "metadata": {
  "kernelspec": {
   "display_name": "Python 3",
   "language": "python",
   "name": "python3"
  },
  "language_info": {
   "codemirror_mode": {
    "name": "ipython",
    "version": 3
   },
   "file_extension": ".py",
   "mimetype": "text/x-python",
   "name": "python",
   "nbconvert_exporter": "python",
   "pygments_lexer": "ipython3",
   "version": "3.10.12"
  },
  "papermill": {
   "default_parameters": {},
   "duration": 19.039456,
   "end_time": "2023-08-17T16:20:00.880665",
   "environment_variables": {},
   "exception": null,
   "input_path": "__notebook__.ipynb",
   "output_path": "__notebook__.ipynb",
   "parameters": {},
   "start_time": "2023-08-17T16:19:41.841209",
   "version": "2.4.0"
  }
 },
 "nbformat": 4,
 "nbformat_minor": 5
}
