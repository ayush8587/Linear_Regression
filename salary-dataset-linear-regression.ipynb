{
 "cells": [
  {
   "cell_type": "code",
   "execution_count": 1,
   "id": "a61f9679",
   "metadata": {
    "_cell_guid": "b1076dfc-b9ad-4769-8c92-a6c4dae69d19",
    "_uuid": "8f2839f25d086af736a60e9eeb907d3b93b6e0e5",
    "execution": {
     "iopub.execute_input": "2023-08-15T16:31:22.180768Z",
     "iopub.status.busy": "2023-08-15T16:31:22.180229Z",
     "iopub.status.idle": "2023-08-15T16:31:22.210320Z",
     "shell.execute_reply": "2023-08-15T16:31:22.208945Z"
    },
    "papermill": {
     "duration": 0.041276,
     "end_time": "2023-08-15T16:31:22.214082",
     "exception": false,
     "start_time": "2023-08-15T16:31:22.172806",
     "status": "completed"
    },
    "tags": []
   },
   "outputs": [
    {
     "name": "stdout",
     "output_type": "stream",
     "text": [
      "/kaggle/input/salary-dataset-simple-linear-regression/Salary_dataset.csv\n"
     ]
    }
   ],
   "source": [
    "# This Python 3 environment comes with many helpful analytics libraries installed\n",
    "# It is defined by the kaggle/python Docker image: https://github.com/kaggle/docker-python\n",
    "# For example, here's several helpful packages to load\n",
    "\n",
    "import numpy as np # linear algebra\n",
    "import pandas as pd # data processing, CSV file I/O (e.g. pd.read_csv)\n",
    "import matplotlib.pyplot as plt\n",
    "%matplotlib inline\n",
    "# Input data files are available in the read-only \"../input/\" directory\n",
    "# For example, running this (by clicking run or pressing Shift+Enter) will list all files under the input directory\n",
    "\n",
    "import os\n",
    "for dirname, _, filenames in os.walk('/kaggle/input'):\n",
    "    for filename in filenames:\n",
    "        print(os.path.join(dirname, filename))\n",
    "\n",
    "# You can write up to 20GB to the current directory (/kaggle/working/) that gets preserved as output when you create a version using \"Save & Run All\" \n",
    "# You can also write temporary files to /kaggle/temp/, but they won't be saved outside of the current session"
   ]
  },
  {
   "cell_type": "code",
   "execution_count": 2,
   "id": "d4675bc1",
   "metadata": {
    "execution": {
     "iopub.execute_input": "2023-08-15T16:31:22.226452Z",
     "iopub.status.busy": "2023-08-15T16:31:22.225929Z",
     "iopub.status.idle": "2023-08-15T16:31:22.264766Z",
     "shell.execute_reply": "2023-08-15T16:31:22.263478Z"
    },
    "papermill": {
     "duration": 0.048723,
     "end_time": "2023-08-15T16:31:22.268175",
     "exception": false,
     "start_time": "2023-08-15T16:31:22.219452",
     "status": "completed"
    },
    "tags": []
   },
   "outputs": [],
   "source": [
    "data=pd.read_csv(\"/kaggle/input/salary-dataset-simple-linear-regression/Salary_dataset.csv\")\n",
    "data.drop(columns='Unnamed: 0',inplace=True)"
   ]
  },
  {
   "cell_type": "code",
   "execution_count": 3,
   "id": "2ce32e0a",
   "metadata": {
    "execution": {
     "iopub.execute_input": "2023-08-15T16:31:22.281346Z",
     "iopub.status.busy": "2023-08-15T16:31:22.279925Z",
     "iopub.status.idle": "2023-08-15T16:31:22.301900Z",
     "shell.execute_reply": "2023-08-15T16:31:22.300467Z"
    },
    "papermill": {
     "duration": 0.031826,
     "end_time": "2023-08-15T16:31:22.305075",
     "exception": false,
     "start_time": "2023-08-15T16:31:22.273249",
     "status": "completed"
    },
    "tags": []
   },
   "outputs": [
    {
     "data": {
      "text/html": [
       "<div>\n",
       "<style scoped>\n",
       "    .dataframe tbody tr th:only-of-type {\n",
       "        vertical-align: middle;\n",
       "    }\n",
       "\n",
       "    .dataframe tbody tr th {\n",
       "        vertical-align: top;\n",
       "    }\n",
       "\n",
       "    .dataframe thead th {\n",
       "        text-align: right;\n",
       "    }\n",
       "</style>\n",
       "<table border=\"1\" class=\"dataframe\">\n",
       "  <thead>\n",
       "    <tr style=\"text-align: right;\">\n",
       "      <th></th>\n",
       "      <th>YearsExperience</th>\n",
       "      <th>Salary</th>\n",
       "    </tr>\n",
       "  </thead>\n",
       "  <tbody>\n",
       "    <tr>\n",
       "      <th>0</th>\n",
       "      <td>1.2</td>\n",
       "      <td>39344.0</td>\n",
       "    </tr>\n",
       "    <tr>\n",
       "      <th>1</th>\n",
       "      <td>1.4</td>\n",
       "      <td>46206.0</td>\n",
       "    </tr>\n",
       "    <tr>\n",
       "      <th>2</th>\n",
       "      <td>1.6</td>\n",
       "      <td>37732.0</td>\n",
       "    </tr>\n",
       "    <tr>\n",
       "      <th>3</th>\n",
       "      <td>2.1</td>\n",
       "      <td>43526.0</td>\n",
       "    </tr>\n",
       "    <tr>\n",
       "      <th>4</th>\n",
       "      <td>2.3</td>\n",
       "      <td>39892.0</td>\n",
       "    </tr>\n",
       "  </tbody>\n",
       "</table>\n",
       "</div>"
      ],
      "text/plain": [
       "   YearsExperience   Salary\n",
       "0              1.2  39344.0\n",
       "1              1.4  46206.0\n",
       "2              1.6  37732.0\n",
       "3              2.1  43526.0\n",
       "4              2.3  39892.0"
      ]
     },
     "execution_count": 3,
     "metadata": {},
     "output_type": "execute_result"
    }
   ],
   "source": [
    "data.head()"
   ]
  },
  {
   "cell_type": "code",
   "execution_count": 4,
   "id": "6e85e235",
   "metadata": {
    "execution": {
     "iopub.execute_input": "2023-08-15T16:31:22.318302Z",
     "iopub.status.busy": "2023-08-15T16:31:22.317463Z",
     "iopub.status.idle": "2023-08-15T16:31:22.322507Z",
     "shell.execute_reply": "2023-08-15T16:31:22.321535Z"
    },
    "papermill": {
     "duration": 0.014943,
     "end_time": "2023-08-15T16:31:22.325273",
     "exception": false,
     "start_time": "2023-08-15T16:31:22.310330",
     "status": "completed"
    },
    "tags": []
   },
   "outputs": [],
   "source": [
    "x=data.YearsExperience\n",
    "y=data.Salary"
   ]
  },
  {
   "cell_type": "code",
   "execution_count": 5,
   "id": "657c4b4c",
   "metadata": {
    "execution": {
     "iopub.execute_input": "2023-08-15T16:31:22.339138Z",
     "iopub.status.busy": "2023-08-15T16:31:22.337763Z",
     "iopub.status.idle": "2023-08-15T16:31:22.663354Z",
     "shell.execute_reply": "2023-08-15T16:31:22.661848Z"
    },
    "papermill": {
     "duration": 0.335978,
     "end_time": "2023-08-15T16:31:22.666510",
     "exception": false,
     "start_time": "2023-08-15T16:31:22.330532",
     "status": "completed"
    },
    "tags": []
   },
   "outputs": [
    {
     "data": {
      "text/plain": [
       "<matplotlib.collections.PathCollection at 0x7a7caa9ef700>"
      ]
     },
     "execution_count": 5,
     "metadata": {},
     "output_type": "execute_result"
    },
    {
     "data": {
      "image/png": "[encoded data removed]",
      "text/plain": [
       "<Figure size 640x480 with 1 Axes>"
      ]
     },
     "metadata": {},
     "output_type": "display_data"
    }
   ],
   "source": [
    "plt.scatter(x,y,marker='.')"
   ]
  },
  {
   "cell_type": "markdown",
   "id": "df87daa1",
   "metadata": {
    "papermill": {
     "duration": 0.005487,
     "end_time": "2023-08-15T16:31:22.678158",
     "exception": false,
     "start_time": "2023-08-15T16:31:22.672671",
     "status": "completed"
    },
    "tags": []
   },
   "source": [
    "*It is clearly visible that as experience increases salary also increases.*"
   ]
  },
  {
   "cell_type": "code",
   "execution_count": 6,
   "id": "a33457ee",
   "metadata": {
    "execution": {
     "iopub.execute_input": "2023-08-15T16:31:22.693272Z",
     "iopub.status.busy": "2023-08-15T16:31:22.692655Z",
     "iopub.status.idle": "2023-08-15T16:31:23.900689Z",
     "shell.execute_reply": "2023-08-15T16:31:23.899624Z"
    },
    "papermill": {
     "duration": 1.219217,
     "end_time": "2023-08-15T16:31:23.903732",
     "exception": false,
     "start_time": "2023-08-15T16:31:22.684515",
     "status": "completed"
    },
    "tags": []
   },
   "outputs": [
    {
     "name": "stderr",
     "output_type": "stream",
     "text": [
      "/opt/conda/lib/python3.10/site-packages/scipy/__init__.py:146: UserWarning: A NumPy version >=1.16.5 and <1.23.0 is required for this version of SciPy (detected version 1.23.5\n",
      "  warnings.warn(f\"A NumPy version >={np_minversion} and <{np_maxversion}\"\n"
     ]
    }
   ],
   "source": [
    "from scipy import stats\n",
    "slope,intercept,*_=stats.linregress(x,y)"
   ]
  },
  {
   "cell_type": "code",
   "execution_count": 7,
   "id": "62d3a97f",
   "metadata": {
    "execution": {
     "iopub.execute_input": "2023-08-15T16:31:23.917936Z",
     "iopub.status.busy": "2023-08-15T16:31:23.917441Z",
     "iopub.status.idle": "2023-08-15T16:31:23.923412Z",
     "shell.execute_reply": "2023-08-15T16:31:23.921961Z"
    },
    "papermill": {
     "duration": 0.01667,
     "end_time": "2023-08-15T16:31:23.926297",
     "exception": false,
     "start_time": "2023-08-15T16:31:23.909627",
     "status": "completed"
    },
    "tags": []
   },
   "outputs": [],
   "source": [
    "def model(x):\n",
    "    return slope*x + intercept"
   ]
  },
  {
   "cell_type": "code",
   "execution_count": 8,
   "id": "a6904b2c",
   "metadata": {
    "execution": {
     "iopub.execute_input": "2023-08-15T16:31:23.940450Z",
     "iopub.status.busy": "2023-08-15T16:31:23.939916Z",
     "iopub.status.idle": "2023-08-15T16:31:23.945388Z",
     "shell.execute_reply": "2023-08-15T16:31:23.944192Z"
    },
    "papermill": {
     "duration": 0.015486,
     "end_time": "2023-08-15T16:31:23.947895",
     "exception": false,
     "start_time": "2023-08-15T16:31:23.932409",
     "status": "completed"
    },
    "tags": []
   },
   "outputs": [],
   "source": [
    "my_model=list(map(model,x))"
   ]
  },
  {
   "cell_type": "code",
   "execution_count": 9,
   "id": "11bd6db5",
   "metadata": {
    "execution": {
     "iopub.execute_input": "2023-08-15T16:31:23.961497Z",
     "iopub.status.busy": "2023-08-15T16:31:23.960986Z",
     "iopub.status.idle": "2023-08-15T16:31:24.278165Z",
     "shell.execute_reply": "2023-08-15T16:31:24.276785Z"
    },
    "papermill": {
     "duration": 0.327406,
     "end_time": "2023-08-15T16:31:24.281118",
     "exception": false,
     "start_time": "2023-08-15T16:31:23.953712",
     "status": "completed"
    },
    "tags": []
   },
   "outputs": [
    {
     "data": {
      "image/png": "[encoded data removed]",
      "text/plain": [
       "<Figure size 640x480 with 1 Axes>"
      ]
     },
     "metadata": {},
     "output_type": "display_data"
    }
   ],
   "source": [
    "plt.scatter(x,y,label='Original dataset')\n",
    "plt.plot(x,my_model,color='red',label='Predicted Model')\n",
    "plt.xlabel('Years Experience')\n",
    "plt.ylabel('Salary')\n",
    "plt.legend()\n",
    "plt.grid(True)\n",
    "plt.show()"
   ]
  },
  {
   "cell_type": "code",
   "execution_count": 10,
   "id": "a10ffc4b",
   "metadata": {
    "execution": {
     "iopub.execute_input": "2023-08-15T16:31:24.296450Z",
     "iopub.status.busy": "2023-08-15T16:31:24.295929Z",
     "iopub.status.idle": "2023-08-15T16:31:24.303814Z",
     "shell.execute_reply": "2023-08-15T16:31:24.302422Z"
    },
    "papermill": {
     "duration": 0.018717,
     "end_time": "2023-08-15T16:31:24.306427",
     "exception": false,
     "start_time": "2023-08-15T16:31:24.287710",
     "status": "completed"
    },
    "tags": []
   },
   "outputs": [
    {
     "data": {
      "text/plain": [
       "43748.12860943335"
      ]
     },
     "execution_count": 10,
     "metadata": {},
     "output_type": "execute_result"
    }
   ],
   "source": [
    "predicted_salary=model(2)\n",
    "predicted_salary"
   ]
  }
 ],
 "metadata": {
  "kernelspec": {
   "display_name": "Python 3",
   "language": "python",
   "name": "python3"
  },
  "language_info": {
   "codemirror_mode": {
    "name": "ipython",
    "version": 3
   },
   "file_extension": ".py",
   "mimetype": "text/x-python",
   "name": "python",
   "nbconvert_exporter": "python",
   "pygments_lexer": "ipython3",
   "version": "3.10.12"
  },
  "papermill": {
   "default_parameters": {},
   "duration": 17.250852,
   "end_time": "2023-08-15T16:31:25.438809",
   "environment_variables": {},
   "exception": null,
   "input_path": "__notebook__.ipynb",
   "output_path": "__notebook__.ipynb",
   "parameters": {},
   "start_time": "2023-08-15T16:31:08.187957",
   "version": "2.4.0"
  }
 },
 "nbformat": 4,
 "nbformat_minor": 5
}
