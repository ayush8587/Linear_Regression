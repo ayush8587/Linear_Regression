{
 "cells": [
  {
   "cell_type": "code",
   "execution_count": 1,
   "id": "23b6d455",
   "metadata": {
    "_cell_guid": "b1076dfc-b9ad-4769-8c92-a6c4dae69d19",
    "_uuid": "8f2839f25d086af736a60e9eeb907d3b93b6e0e5",
    "execution": {
     "iopub.execute_input": "2023-08-15T07:38:13.674168Z",
     "iopub.status.busy": "2023-08-15T07:38:13.673705Z",
     "iopub.status.idle": "2023-08-15T07:38:13.698380Z",
     "shell.execute_reply": "2023-08-15T07:38:13.697130Z"
    },
    "papermill": {
     "duration": 0.035646,
     "end_time": "2023-08-15T07:38:13.701719",
     "exception": false,
     "start_time": "2023-08-15T07:38:13.666073",
     "status": "completed"
    },
    "tags": []
   },
   "outputs": [
    {
     "name": "stdout",
     "output_type": "stream",
     "text": [
      "/kaggle/input/salary-dataset-simple-linear-regression/Salary_dataset.csv\n"
     ]
    }
   ],
   "source": [
    "# This Python 3 environment comes with many helpful analytics libraries installed\n",
    "# It is defined by the kaggle/python Docker image: https://github.com/kaggle/docker-python\n",
    "# For example, here's several helpful packages to load\n",
    "\n",
    "import numpy as np # linear algebra\n",
    "import pandas as pd # data processing, CSV file I/O (e.g. pd.read_csv)\n",
    "import matplotlib.pyplot as plt\n",
    "%matplotlib inline\n",
    "# Input data files are available in the read-only \"../input/\" directory\n",
    "# For example, running this (by clicking run or pressing Shift+Enter) will list all files under the input directory\n",
    "\n",
    "import os\n",
    "for dirname, _, filenames in os.walk('/kaggle/input'):\n",
    "    for filename in filenames:\n",
    "        print(os.path.join(dirname, filename))\n",
    "\n",
    "# You can write up to 20GB to the current directory (/kaggle/working/) that gets preserved as output when you create a version using \"Save & Run All\" \n",
    "# You can also write temporary files to /kaggle/temp/, but they won't be saved outside of the current session"
   ]
  },
  {
   "cell_type": "code",
   "execution_count": 2,
   "id": "c9e426e6",
   "metadata": {
    "execution": {
     "iopub.execute_input": "2023-08-15T07:38:13.715283Z",
     "iopub.status.busy": "2023-08-15T07:38:13.714522Z",
     "iopub.status.idle": "2023-08-15T07:38:13.749082Z",
     "shell.execute_reply": "2023-08-15T07:38:13.747689Z"
    },
    "papermill": {
     "duration": 0.045146,
     "end_time": "2023-08-15T07:38:13.752644",
     "exception": false,
     "start_time": "2023-08-15T07:38:13.707498",
     "status": "completed"
    },
    "tags": []
   },
   "outputs": [],
   "source": [
    "data=pd.read_csv(\"/kaggle/input/salary-dataset-simple-linear-regression/Salary_dataset.csv\")\n",
    "data.drop(columns='Unnamed: 0',inplace=True)"
   ]
  },
  {
   "cell_type": "code",
   "execution_count": 3,
   "id": "1d61e3cb",
   "metadata": {
    "execution": {
     "iopub.execute_input": "2023-08-15T07:38:13.766029Z",
     "iopub.status.busy": "2023-08-15T07:38:13.765298Z",
     "iopub.status.idle": "2023-08-15T07:38:13.785689Z",
     "shell.execute_reply": "2023-08-15T07:38:13.784404Z"
    },
    "papermill": {
     "duration": 0.030485,
     "end_time": "2023-08-15T07:38:13.788757",
     "exception": false,
     "start_time": "2023-08-15T07:38:13.758272",
     "status": "completed"
    },
    "tags": []
   },
   "outputs": [
    {
     "data": {
      "text/html": [
       "<div>\n",
       "<style scoped>\n",
       "    .dataframe tbody tr th:only-of-type {\n",
       "        vertical-align: middle;\n",
       "    }\n",
       "\n",
       "    .dataframe tbody tr th {\n",
       "        vertical-align: top;\n",
       "    }\n",
       "\n",
       "    .dataframe thead th {\n",
       "        text-align: right;\n",
       "    }\n",
       "</style>\n",
       "<table border=\"1\" class=\"dataframe\">\n",
       "  <thead>\n",
       "    <tr style=\"text-align: right;\">\n",
       "      <th></th>\n",
       "      <th>YearsExperience</th>\n",
       "      <th>Salary</th>\n",
       "    </tr>\n",
       "  </thead>\n",
       "  <tbody>\n",
       "    <tr>\n",
       "      <th>0</th>\n",
       "      <td>1.2</td>\n",
       "      <td>39344.0</td>\n",
       "    </tr>\n",
       "    <tr>\n",
       "      <th>1</th>\n",
       "      <td>1.4</td>\n",
       "      <td>46206.0</td>\n",
       "    </tr>\n",
       "    <tr>\n",
       "      <th>2</th>\n",
       "      <td>1.6</td>\n",
       "      <td>37732.0</td>\n",
       "    </tr>\n",
       "    <tr>\n",
       "      <th>3</th>\n",
       "      <td>2.1</td>\n",
       "      <td>43526.0</td>\n",
       "    </tr>\n",
       "    <tr>\n",
       "      <th>4</th>\n",
       "      <td>2.3</td>\n",
       "      <td>39892.0</td>\n",
       "    </tr>\n",
       "  </tbody>\n",
       "</table>\n",
       "</div>"
      ],
      "text/plain": [
       "   YearsExperience   Salary\n",
       "0              1.2  39344.0\n",
       "1              1.4  46206.0\n",
       "2              1.6  37732.0\n",
       "3              2.1  43526.0\n",
       "4              2.3  39892.0"
      ]
     },
     "execution_count": 3,
     "metadata": {},
     "output_type": "execute_result"
    }
   ],
   "source": [
    "data.head()"
   ]
  },
  {
   "cell_type": "code",
   "execution_count": 4,
   "id": "4c53eb37",
   "metadata": {
    "execution": {
     "iopub.execute_input": "2023-08-15T07:38:13.801453Z",
     "iopub.status.busy": "2023-08-15T07:38:13.800911Z",
     "iopub.status.idle": "2023-08-15T07:38:13.807009Z",
     "shell.execute_reply": "2023-08-15T07:38:13.805627Z"
    },
    "papermill": {
     "duration": 0.015382,
     "end_time": "2023-08-15T07:38:13.809512",
     "exception": false,
     "start_time": "2023-08-15T07:38:13.794130",
     "status": "completed"
    },
    "tags": []
   },
   "outputs": [],
   "source": [
    "x=data.YearsExperience\n",
    "y=data.Salary"
   ]
  },
  {
   "cell_type": "code",
   "execution_count": 5,
   "id": "8bcc435e",
   "metadata": {
    "execution": {
     "iopub.execute_input": "2023-08-15T07:38:13.822790Z",
     "iopub.status.busy": "2023-08-15T07:38:13.822003Z",
     "iopub.status.idle": "2023-08-15T07:38:14.155527Z",
     "shell.execute_reply": "2023-08-15T07:38:14.153883Z"
    },
    "papermill": {
     "duration": 0.34432,
     "end_time": "2023-08-15T07:38:14.159404",
     "exception": false,
     "start_time": "2023-08-15T07:38:13.815084",
     "status": "completed"
    },
    "tags": []
   },
   "outputs": [
    {
     "data": {
      "text/plain": [
       "<matplotlib.collections.PathCollection at 0x78c421b292d0>"
      ]
     },
     "execution_count": 5,
     "metadata": {},
     "output_type": "execute_result"
    },
    {
     "data": {
      "image/png": "[encoded data removed]",
      "text/plain": [
       "<Figure size 640x480 with 1 Axes>"
      ]
     },
     "metadata": {},
     "output_type": "display_data"
    }
   ],
   "source": [
    "plt.scatter(x,y)"
   ]
  },
  {
   "cell_type": "markdown",
   "id": "7e4b9520",
   "metadata": {
    "papermill": {
     "duration": 0.005484,
     "end_time": "2023-08-15T07:38:14.171574",
     "exception": false,
     "start_time": "2023-08-15T07:38:14.166090",
     "status": "completed"
    },
    "tags": []
   },
   "source": [
    "*It is clearly visible that as experience increases salary also increases.*"
   ]
  },
  {
   "cell_type": "code",
   "execution_count": 6,
   "id": "5cd7d6c1",
   "metadata": {
    "execution": {
     "iopub.execute_input": "2023-08-15T07:38:14.186575Z",
     "iopub.status.busy": "2023-08-15T07:38:14.185200Z",
     "iopub.status.idle": "2023-08-15T07:38:15.324921Z",
     "shell.execute_reply": "2023-08-15T07:38:15.323313Z"
    },
    "papermill": {
     "duration": 1.151096,
     "end_time": "2023-08-15T07:38:15.328455",
     "exception": false,
     "start_time": "2023-08-15T07:38:14.177359",
     "status": "completed"
    },
    "tags": []
   },
   "outputs": [
    {
     "name": "stderr",
     "output_type": "stream",
     "text": [
      "/opt/conda/lib/python3.10/site-packages/scipy/__init__.py:146: UserWarning: A NumPy version >=1.16.5 and <1.23.0 is required for this version of SciPy (detected version 1.23.5\n",
      "  warnings.warn(f\"A NumPy version >={np_minversion} and <{np_maxversion}\"\n"
     ]
    }
   ],
   "source": [
    "from scipy import stats\n",
    "slope,intercept,*_=stats.linregress(x,y)"
   ]
  },
  {
   "cell_type": "code",
   "execution_count": 7,
   "id": "b61013c0",
   "metadata": {
    "execution": {
     "iopub.execute_input": "2023-08-15T07:38:15.344366Z",
     "iopub.status.busy": "2023-08-15T07:38:15.343821Z",
     "iopub.status.idle": "2023-08-15T07:38:15.350430Z",
     "shell.execute_reply": "2023-08-15T07:38:15.348973Z"
    },
    "papermill": {
     "duration": 0.019074,
     "end_time": "2023-08-15T07:38:15.353661",
     "exception": false,
     "start_time": "2023-08-15T07:38:15.334587",
     "status": "completed"
    },
    "tags": []
   },
   "outputs": [],
   "source": [
    "def model(x):\n",
    "    return slope*x + intercept"
   ]
  },
  {
   "cell_type": "code",
   "execution_count": 8,
   "id": "40d24f92",
   "metadata": {
    "execution": {
     "iopub.execute_input": "2023-08-15T07:38:15.368235Z",
     "iopub.status.busy": "2023-08-15T07:38:15.367742Z",
     "iopub.status.idle": "2023-08-15T07:38:15.373666Z",
     "shell.execute_reply": "2023-08-15T07:38:15.372395Z"
    },
    "papermill": {
     "duration": 0.016432,
     "end_time": "2023-08-15T07:38:15.376785",
     "exception": false,
     "start_time": "2023-08-15T07:38:15.360353",
     "status": "completed"
    },
    "tags": []
   },
   "outputs": [],
   "source": [
    "my_model=list(map(model,x))"
   ]
  },
  {
   "cell_type": "code",
   "execution_count": 9,
   "id": "6b29064c",
   "metadata": {
    "execution": {
     "iopub.execute_input": "2023-08-15T07:38:15.390814Z",
     "iopub.status.busy": "2023-08-15T07:38:15.390026Z",
     "iopub.status.idle": "2023-08-15T07:38:15.692163Z",
     "shell.execute_reply": "2023-08-15T07:38:15.690909Z"
    },
    "papermill": {
     "duration": 0.312384,
     "end_time": "2023-08-15T07:38:15.694984",
     "exception": false,
     "start_time": "2023-08-15T07:38:15.382600",
     "status": "completed"
    },
    "tags": []
   },
   "outputs": [
    {
     "data": {
      "image/png": "[encoded data removed]",
      "text/plain": [
       "<Figure size 640x480 with 1 Axes>"
      ]
     },
     "metadata": {},
     "output_type": "display_data"
    }
   ],
   "source": [
    "plt.scatter(x,y,label='Original dataset')\n",
    "plt.plot(x,my_model,color='red',label='Predicted Model')\n",
    "plt.xlabel('Years Experience')\n",
    "plt.ylabel('Salary')\n",
    "plt.legend()\n",
    "plt.show()"
   ]
  },
  {
   "cell_type": "code",
   "execution_count": 10,
   "id": "df4fc619",
   "metadata": {
    "execution": {
     "iopub.execute_input": "2023-08-15T07:38:15.710674Z",
     "iopub.status.busy": "2023-08-15T07:38:15.710183Z",
     "iopub.status.idle": "2023-08-15T07:38:15.717688Z",
     "shell.execute_reply": "2023-08-15T07:38:15.716450Z"
    },
    "papermill": {
     "duration": 0.018837,
     "end_time": "2023-08-15T07:38:15.720358",
     "exception": false,
     "start_time": "2023-08-15T07:38:15.701521",
     "status": "completed"
    },
    "tags": []
   },
   "outputs": [
    {
     "data": {
      "text/plain": [
       "43748.12860943335"
      ]
     },
     "execution_count": 10,
     "metadata": {},
     "output_type": "execute_result"
    }
   ],
   "source": [
    "predicted_salary=model(2)\n",
    "predicted_salary"
   ]
  }
 ],
 "metadata": {
  "kernelspec": {
   "display_name": "Python 3",
   "language": "python",
   "name": "python3"
  },
  "language_info": {
   "codemirror_mode": {
    "name": "ipython",
    "version": 3
   },
   "file_extension": ".py",
   "mimetype": "text/x-python",
   "name": "python",
   "nbconvert_exporter": "python",
   "pygments_lexer": "ipython3",
   "version": "3.10.12"
  },
  "papermill": {
   "default_parameters": {},
   "duration": 15.539821,
   "end_time": "2023-08-15T07:38:16.750667",
   "environment_variables": {},
   "exception": null,
   "input_path": "__notebook__.ipynb",
   "output_path": "__notebook__.ipynb",
   "parameters": {},
   "start_time": "2023-08-15T07:38:01.210846",
   "version": "2.4.0"
  }
 },
 "nbformat": 4,
 "nbformat_minor": 5
}
